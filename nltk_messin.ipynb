{
 "cells": [
  {
   "cell_type": "code",
   "execution_count": 95,
   "id": "2e8163c6-a4b6-4c83-bb9c-f2dec48c72b0",
   "metadata": {},
   "outputs": [],
   "source": [
    "import numpy as np\n",
    "import pandas as pd\n",
    "import nltk\n",
    "import os\n",
    "from bs4 import BeautifulSoup\n",
    "import pdfplumber\n",
    "from collections import Counter\n",
    "from nltk.tokenize import sent_tokenize, word_tokenize\n",
    "from nltk.corpus import stopwords\n",
    "from sumy.parsers.plaintext import PlaintextParser\n",
    "from sumy.nlp.tokenizers import Tokenizer\n",
    "from sumy.summarizers.text_rank import TextRankSummarizer\n",
    "import re"
   ]
  },
  {
   "cell_type": "code",
   "execution_count": 25,
   "id": "d2820948-e9f1-4cf8-9697-9fa5611f86e1",
   "metadata": {},
   "outputs": [
    {
     "name": "stderr",
     "output_type": "stream",
     "text": [
      "[nltk_data] Downloading package punkt to\n",
      "[nltk_data]     C:\\Users\\sgray\\AppData\\Roaming\\nltk_data...\n",
      "[nltk_data]   Unzipping tokenizers\\punkt.zip.\n",
      "[nltk_data] Downloading package stopwords to\n",
      "[nltk_data]     C:\\Users\\sgray\\AppData\\Roaming\\nltk_data...\n",
      "[nltk_data]   Unzipping corpora\\stopwords.zip.\n"
     ]
    },
    {
     "data": {
      "text/plain": [
       "True"
      ]
     },
     "execution_count": 25,
     "metadata": {},
     "output_type": "execute_result"
    }
   ],
   "source": [
    "#Download necessary nltk packages\n",
    "nltk.download('punkt')\n",
    "nltk.download('stopwords')"
   ]
  },
  {
   "cell_type": "code",
   "execution_count": 101,
   "id": "84cdd8a1-a932-4517-a7d6-1cae6a6aa83e",
   "metadata": {},
   "outputs": [],
   "source": [
    "#Function for rippin words from pdf\n",
    "def extract_text_from_pdf(data_dir, pdf_name, folder = None):\n",
    "    \"\"\"Extracts text from a PDF file.\n",
    "            data_dir: Data directory\n",
    "            pdf_name: Name of pdf file\n",
    "            folder (optional): Specific folder in data directory to pull from\"\"\"\n",
    "    if folder != None:\n",
    "        pdf_folder = os.path.join(data_dir, folder)\n",
    "        pdf_file = os.path.join(pdf_folder, pdf_name)\n",
    "    else:\n",
    "        pdf_file = os.path.join(data_dir, pdf_name)\n",
    "    with pdfplumber.open(pdf_file) as pdf:\n",
    "        text = \"\\n\".join([page.extract_text() for page in pdf.pages if page.extract_text()])\n",
    "        return(text)\n",
    "\n",
    "#Function for summarizin text\n",
    "def summarize_text(text, num_sentences=5):\n",
    "    \"\"\"Summarizes the text using sentence ranking based on word frequency.\"\"\"\n",
    "    # Tokenize the text into sentences\n",
    "    sentences = sent_tokenize(text)\n",
    "    \n",
    "    # Tokenize words and filter out stopwords\n",
    "    words = word_tokenize(text.lower())\n",
    "    stop_words = set(stopwords.words(\"english\"))\n",
    "    words = [word for word in words if word.isalnum() and word not in stop_words]\n",
    "\n",
    "    # Compute word frequency\n",
    "    word_freq = Counter(words)\n",
    "\n",
    "    # Score sentences based on word frequency\n",
    "    sentence_scores = {sent: sum(word_freq.get(word, 0) for word in word_tokenize(sent.lower())) for sent in sentences}\n",
    "\n",
    "    # Select the top 'num_sentences' sentences\n",
    "    summary_sentences = sorted(sentence_scores, key=sentence_scores.get, reverse=True)[:num_sentences]\n",
    "    \n",
    "    return \" \".join(summary_sentences)\n",
    "\n",
    "#TextRank summarizer, better than normal\n",
    "def summarize_text_textrank(text, num_sentences=3):\n",
    "    \"\"\"Summarizes text using the TextRank algorithm.\"\"\"\n",
    "    parser = PlaintextParser.from_string(text, Tokenizer(\"english\"))\n",
    "    summarizer = TextRankSummarizer()\n",
    "    summary = summarizer(parser.document, num_sentences)\n",
    "    return \" \".join(str(sentence) for sentence in summary)\n",
    "\n",
    "#Split by headers\n",
    "def split_by_headers(text):\n",
    "    \"\"\"split text into sections based on headers\"\"\"\n",
    "    sections = {}\n",
    "    current_header = \"Introduction\"\n",
    "    sections[current_header] = []\n",
    "\n",
    "    #detect headers through newline or all caps\n",
    "    header_pattern = re.compile(r'(^[A-Z][A-Z\\s\\d]+$)', re.MULTILINE)\n",
    "\n",
    "    lines = text.split(\"\\n\")\n",
    "    for line in lines:\n",
    "        if header_pattern.match(line.strip()): #compare to current line\n",
    "            current_header = line.strip()\n",
    "            sections[current_header] = []\n",
    "        else:\n",
    "            sections[current_header].append(line.strip())\n",
    "\n",
    "    return({header: \"\\n\".join(content) for header, content in sections.items() if content})\n",
    "\n",
    "#New Summarizer for sections\n",
    "def summarize_section(text, num_sentences=3):\n",
    "    \"\"\"Summarizes text using the TextRank algorithm.\"\"\"\n",
    "    parser = PlaintextParser.from_string(text, Tokenizer(\"english\"))\n",
    "    summarizer = TextRankSummarizer()\n",
    "    summary = summarizer(parser.document, num_sentences)\n",
    "    return \" \".join(str(sentence) for sentence in summary)"
   ]
  },
  {
   "cell_type": "code",
   "execution_count": 111,
   "id": "320589ad-3984-40b0-b58f-9ad2e5b3a4cb",
   "metadata": {},
   "outputs": [],
   "source": [
    "#Data directory\n",
    "data_dir = r'C:\\Users\\sgray\\OneDrive - University of Tennessee\\Spring 25\\DATA Capstone\\docs'#\\good_fit'\n",
    "#Folder name (optional), will ignore if you don't have subfolder to look through\n",
    "folder = \"good_fit\"\n",
    "#grab pdf_name\n",
    "pdf_name = \"RFP+CR-346570+Attachment+A+SOW+SQA+Consulting.pdf\"\n",
    "#Append pdf_name to end of Data directory, add folder if necessary\n",
    "#Then grab the text from it\n",
    "text = extract_text_from_pdf(data_dir, pdf_name, folder)\n",
    "#Split by headers \n",
    "\"\"\"WIP: NOT WORKING CORRECTLY\"\"\"\n",
    "sections = split_by_headers(text)\n",
    "#Spit out summaries under each header\n",
    "summaries = {header: summarize_section(content, num_sentences = 3) for header, content in sections.items()}"
   ]
  },
  {
   "cell_type": "code",
   "execution_count": 113,
   "id": "12afca1d-c21f-4d4d-9d66-b5f9aa4f8e95",
   "metadata": {},
   "outputs": [
    {
     "name": "stdout",
     "output_type": "stream",
     "text": [
      "===Introduction===\n",
      "Attachment A Statement of Work Software Quality Assurance (SQA) Consultant August 23, 2023 Overview/Objective: Vendor to provide SQA consulting service to Fermi National Accelerator Laboratory. Requirements: The vendor must be experienced in SQA consulting within the Department of Energy (DOE) and working with DOE National Laboratories on Responsibilities/Deliverables: The vendor will be asked to provide the following: • A thorough review of FRA SQA Program documentation • Create an assessment plan for the SQA Review (lab-wide) • Execute the SQA Review • Support the development of improvement actions.\n",
      "\n",
      "\n"
     ]
    }
   ],
   "source": [
    "for header, summary in summaries.items():\n",
    "    print(f\"==={header}===\")\n",
    "    print(summary)\n",
    "    print('\\n')"
   ]
  }
 ],
 "metadata": {
  "kernelspec": {
   "display_name": "Python 3 (ipykernel)",
   "language": "python",
   "name": "python3"
  },
  "language_info": {
   "codemirror_mode": {
    "name": "ipython",
    "version": 3
   },
   "file_extension": ".py",
   "mimetype": "text/x-python",
   "name": "python",
   "nbconvert_exporter": "python",
   "pygments_lexer": "ipython3",
   "version": "3.12.4"
  }
 },
 "nbformat": 4,
 "nbformat_minor": 5
}
